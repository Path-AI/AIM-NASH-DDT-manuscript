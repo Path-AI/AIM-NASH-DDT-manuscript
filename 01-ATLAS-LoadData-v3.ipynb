{
 "cells": [
  {
   "cell_type": "markdown",
   "id": "79aa2efe-3cd0-47e2-b456-c6262a336ea0",
   "metadata": {},
   "source": [
    "# N are different across deployed models\n",
    "- [ ] check N between multiseed run and previous reported data\n"
   ]
  },
  {
   "cell_type": "code",
   "execution_count": 122,
   "id": "e05be99a-e436-4be0-8410-fccee01896ea",
   "metadata": {},
   "outputs": [],
   "source": [
    "# packages\n",
    "import matplotlib.pyplot as plt\n",
    "import seaborn as sns\n",
    "\n",
    "import numpy as np\n",
    "import pandas as pd\n",
    "from functools import reduce\n",
    "import itertools\n",
    "from tqdm import tqdm\n",
    "\n",
    "from sklearn.utils import resample\n",
    "\n",
    "# # local\n",
    "from nb_util import autoreload, add_dirs\n",
    "# autoreload()\n",
    "\n",
    "add_dirs(['../'])\n",
    "from nash_util import concordance_stats as cs\n",
    "from nash_util import nash_definitions as nd\n",
    "from nash_util import nash_changes as nc\n",
    "\n",
    "\n",
    "add_dirs(['~/Projects/Code/ml-platform'])\n",
    "from pathai.api.slides import slides_base"
   ]
  },
  {
   "cell_type": "code",
   "execution_count": 123,
   "id": "17d6bf76-d6bc-4649-acd7-6caedee218c8",
   "metadata": {},
   "outputs": [],
   "source": [
    "## load image ID data\n",
    "atlas_ids = pd.read_excel('REFDATA/ATLAS_ImageIDs.xlsx', engine='openpyxl')\n",
    "atlas_ids = atlas_ids[['USUBJID','HE_ID_BL','TRICHROME_ID_BL','HE_ID_W48','TRICHROME_ID_W48']].copy()"
   ]
  },
  {
   "cell_type": "code",
   "execution_count": 124,
   "id": "c0bc2dde-4579-46cf-a8e2-7cf9a55c49d9",
   "metadata": {},
   "outputs": [
    {
     "data": {
      "text/plain": [
       "False"
      ]
     },
     "execution_count": 124,
     "metadata": {},
     "output_type": "execute_result"
    }
   ],
   "source": [
    "any(atlas_ids[['USUBJID']].duplicated())"
   ]
  },
  {
   "cell_type": "code",
   "execution_count": 125,
   "id": "9b3f36de-0adc-45ef-a7db-78e82bb88fd9",
   "metadata": {},
   "outputs": [
    {
     "data": {
      "text/plain": [
       "(616, 5)"
      ]
     },
     "execution_count": 125,
     "metadata": {},
     "output_type": "execute_result"
    }
   ],
   "source": [
    "atlas_ids.shape"
   ]
  },
  {
   "cell_type": "code",
   "execution_count": 126,
   "id": "09b38a05-ba96-43d4-a725-963f432b9bd8",
   "metadata": {},
   "outputs": [
    {
     "data": {
      "text/plain": [
       "(303, 5)"
      ]
     },
     "execution_count": 126,
     "metadata": {},
     "output_type": "execute_result"
    }
   ],
   "source": [
    "atlas_ids.dropna().shape"
   ]
  },
  {
   "cell_type": "code",
   "execution_count": 127,
   "id": "5451f4cd-a184-43c0-9932-340f4c2eae10",
   "metadata": {},
   "outputs": [],
   "source": [
    "per_subject_df = atlas_ids.copy()\n",
    "per_subject_old_df = atlas_ids.copy()"
   ]
  },
  {
   "cell_type": "code",
   "execution_count": 128,
   "id": "3b382e7a-c785-4877-b277-833fe95412f4",
   "metadata": {},
   "outputs": [],
   "source": [
    "per_subject_df.loc[per_subject_df['USUBJID']==\"GS-US-454-4378-12657-91216\", 'TRICHROME_ID_W48'] = per_subject_old_df.loc[per_subject_old_df['USUBJID']==\"GS-US-454-4378-12657-91216\", 'HE_ID_W48']\n",
    "per_subject_df.loc[per_subject_df['USUBJID']==\"GS-US-454-4378-12657-91216\", 'HE_ID_W48'] = per_subject_old_df.loc[per_subject_old_df['USUBJID']==\"GS-US-454-4378-12657-91216\", 'TRICHROME_ID_W48']\n",
    "\n",
    "per_subject_df.loc[per_subject_df['USUBJID']==\"GS-US-454-4378-13744-91182\", 'TRICHROME_ID_W48'] = per_subject_old_df.loc[per_subject_old_df['USUBJID']==\"GS-US-454-4378-13744-91182\", 'HE_ID_W48']\n",
    "per_subject_df.loc[per_subject_df['USUBJID']==\"GS-US-454-4378-13744-91182\", 'HE_ID_W48'] = per_subject_old_df.loc[per_subject_old_df['USUBJID']==\"GS-US-454-4378-13744-91182\", 'TRICHROME_ID_W48']\n"
   ]
  },
  {
   "cell_type": "code",
   "execution_count": 129,
   "id": "e9aca4f0-09f0-4eb1-8175-05e06eeea9ac",
   "metadata": {},
   "outputs": [],
   "source": [
    "# atlas\n",
    "tc_atlas = pd.read_excel(\"REFDATA/GILEAD_V2/NASH_ATLAS_NASH_Trichrome_Features_2022-02-17_14_48.xlsx\", sheet_name='FEATURES', engine='openpyxl')\n",
    "he_atlas = pd.read_excel(\"REFDATA/GILEAD_V2/NASH_ATLAS_NASH_HE_Features_2022-02-17_14_48.xlsx\", sheet_name='FEATURES',engine='openpyxl')\n",
    "he_atlas.set_index('PATHAI_ID', inplace=True)\n",
    "tc_atlas.set_index('PATHAI_ID', inplace=True)"
   ]
  },
  {
   "cell_type": "code",
   "execution_count": 130,
   "id": "f914e158-dbc6-44ce-abd7-c796354d41c3",
   "metadata": {},
   "outputs": [],
   "source": [
    "# st3\n",
    "tc_st3 = pd.read_excel(\"REFDATA/GILEAD_V2/GILD-S-1-NASH-Stellar3_NASH_Trichrome_Features_2022-02-22_23_33.xlsx\", sheet_name='FEATURES', engine='openpyxl')\n",
    "he_st3 = pd.read_excel(\"REFDATA/GILEAD_V2/GILD-S-1-NASH-Stellar3_NASH_HE_Features_2022-02-22_23_33.xlsx\", sheet_name='FEATURES',engine='openpyxl')\n",
    "he_st3.set_index('PATHAI_ID', inplace=True)\n",
    "tc_st3.set_index('PATHAI_ID', inplace=True)"
   ]
  },
  {
   "cell_type": "code",
   "execution_count": 131,
   "id": "624f7274-60c3-4eed-8148-45c22ccdd940",
   "metadata": {},
   "outputs": [],
   "source": [
    "# st4\n",
    "tc_st4 = pd.read_excel(\"REFDATA/GILEAD_V2/NASH_Stellar4_NASH_Trichrome_Features_2022-02-23_15_58.xlsx\", sheet_name='FEATURES', engine='openpyxl')\n",
    "he_st4 = pd.read_excel(\"REFDATA/GILEAD_V2/NASH_Stellar4_NASH_HE_Features_2022-02-23_15_58.xlsx\", sheet_name='FEATURES',engine='openpyxl')\n",
    "he_st4.set_index('PATHAI_ID', inplace=True)\n",
    "tc_st4.set_index('PATHAI_ID', inplace=True)"
   ]
  },
  {
   "cell_type": "code",
   "execution_count": 132,
   "id": "fe92a323-ba8f-4549-ae1b-b1240b5cfad6",
   "metadata": {},
   "outputs": [],
   "source": [
    "clinical = pd.read_excel(\"REFDATA/20191219-ATLAS-MLfeatures+clinicalData.xlsx\", sheet_name='PathAI Feature', engine='openpyxl')\n",
    "clin_cols = ['USUBJID','TRT01A','PE48NRI','FI48NRI','NAS48NRI','HS48OC','LI48OC','HB48OC','DIABN','NR48NRI','CIRRCATN']\n",
    "clin = clinical[clin_cols].copy()"
   ]
  },
  {
   "cell_type": "code",
   "execution_count": 133,
   "id": "1eeaba9e-4d05-4213-9d9c-fb1bb88402f6",
   "metadata": {},
   "outputs": [],
   "source": [
    "per_subject_df = per_subject_df.merge(clin,how='left',on='USUBJID').drop_duplicates()"
   ]
  },
  {
   "cell_type": "code",
   "execution_count": 134,
   "id": "4adec863-908e-485c-93d8-a602f4135650",
   "metadata": {},
   "outputs": [
    {
     "data": {
      "text/html": [
       "<div>\n",
       "<style scoped>\n",
       "    .dataframe tbody tr th:only-of-type {\n",
       "        vertical-align: middle;\n",
       "    }\n",
       "\n",
       "    .dataframe tbody tr th {\n",
       "        vertical-align: top;\n",
       "    }\n",
       "\n",
       "    .dataframe thead th {\n",
       "        text-align: right;\n",
       "    }\n",
       "</style>\n",
       "<table border=\"1\" class=\"dataframe\">\n",
       "  <thead>\n",
       "    <tr style=\"text-align: right;\">\n",
       "      <th></th>\n",
       "      <th>USUBJID</th>\n",
       "      <th>HE_ID_BL</th>\n",
       "      <th>TRICHROME_ID_BL</th>\n",
       "      <th>HE_ID_W48</th>\n",
       "      <th>TRICHROME_ID_W48</th>\n",
       "      <th>TRT01A</th>\n",
       "      <th>PE48NRI</th>\n",
       "      <th>FI48NRI</th>\n",
       "      <th>NAS48NRI</th>\n",
       "      <th>HS48OC</th>\n",
       "      <th>LI48OC</th>\n",
       "      <th>HB48OC</th>\n",
       "      <th>DIABN</th>\n",
       "      <th>NR48NRI</th>\n",
       "      <th>CIRRCATN</th>\n",
       "    </tr>\n",
       "  </thead>\n",
       "  <tbody>\n",
       "    <tr>\n",
       "      <th>0</th>\n",
       "      <td>GS-US-454-4378-00380-91025</td>\n",
       "      <td>182331.0</td>\n",
       "      <td>182333.0</td>\n",
       "      <td>183712.0</td>\n",
       "      <td>183785.0</td>\n",
       "      <td>SEL + GS-0976</td>\n",
       "      <td>N</td>\n",
       "      <td>N</td>\n",
       "      <td>N</td>\n",
       "      <td>N</td>\n",
       "      <td>N</td>\n",
       "      <td>N</td>\n",
       "      <td>1</td>\n",
       "      <td>N</td>\n",
       "      <td>1.0</td>\n",
       "    </tr>\n",
       "    <tr>\n",
       "      <th>1</th>\n",
       "      <td>GS-US-454-4378-00380-91106</td>\n",
       "      <td>182919.0</td>\n",
       "      <td>182930.0</td>\n",
       "      <td>183965.0</td>\n",
       "      <td>183972.0</td>\n",
       "      <td>SEL + GS-0976</td>\n",
       "      <td>N</td>\n",
       "      <td>N</td>\n",
       "      <td>N</td>\n",
       "      <td>NaN</td>\n",
       "      <td>N</td>\n",
       "      <td>N</td>\n",
       "      <td>1</td>\n",
       "      <td>N</td>\n",
       "      <td>1.0</td>\n",
       "    </tr>\n",
       "    <tr>\n",
       "      <th>2</th>\n",
       "      <td>GS-US-454-4378-00380-91120</td>\n",
       "      <td>182502.0</td>\n",
       "      <td>182503.0</td>\n",
       "      <td>184008.0</td>\n",
       "      <td>184344.0</td>\n",
       "      <td>SEL + GS-0976</td>\n",
       "      <td>Y</td>\n",
       "      <td>Y</td>\n",
       "      <td>N</td>\n",
       "      <td>N</td>\n",
       "      <td>Y</td>\n",
       "      <td>N</td>\n",
       "      <td>0</td>\n",
       "      <td>N</td>\n",
       "      <td>1.0</td>\n",
       "    </tr>\n",
       "    <tr>\n",
       "      <th>3</th>\n",
       "      <td>GS-US-454-4378-00380-91141</td>\n",
       "      <td>182330.0</td>\n",
       "      <td>182332.0</td>\n",
       "      <td>184346.0</td>\n",
       "      <td>184015.0</td>\n",
       "      <td>GS-0976 + GS-9674</td>\n",
       "      <td>N</td>\n",
       "      <td>N</td>\n",
       "      <td>N</td>\n",
       "      <td>N</td>\n",
       "      <td>N</td>\n",
       "      <td>N</td>\n",
       "      <td>1</td>\n",
       "      <td>N</td>\n",
       "      <td>1.0</td>\n",
       "    </tr>\n",
       "    <tr>\n",
       "      <th>4</th>\n",
       "      <td>GS-US-454-4378-00380-91326</td>\n",
       "      <td>183260.0</td>\n",
       "      <td>183270.0</td>\n",
       "      <td>184190.0</td>\n",
       "      <td>184195.0</td>\n",
       "      <td>GS-0976 + GS-9674</td>\n",
       "      <td>N</td>\n",
       "      <td>N</td>\n",
       "      <td>N</td>\n",
       "      <td>N</td>\n",
       "      <td>N</td>\n",
       "      <td>Y</td>\n",
       "      <td>1</td>\n",
       "      <td>N</td>\n",
       "      <td>2.0</td>\n",
       "    </tr>\n",
       "  </tbody>\n",
       "</table>\n",
       "</div>"
      ],
      "text/plain": [
       "                      USUBJID  HE_ID_BL  TRICHROME_ID_BL  HE_ID_W48  \\\n",
       "0  GS-US-454-4378-00380-91025  182331.0         182333.0   183712.0   \n",
       "1  GS-US-454-4378-00380-91106  182919.0         182930.0   183965.0   \n",
       "2  GS-US-454-4378-00380-91120  182502.0         182503.0   184008.0   \n",
       "3  GS-US-454-4378-00380-91141  182330.0         182332.0   184346.0   \n",
       "4  GS-US-454-4378-00380-91326  183260.0         183270.0   184190.0   \n",
       "\n",
       "   TRICHROME_ID_W48             TRT01A PE48NRI FI48NRI NAS48NRI HS48OC LI48OC  \\\n",
       "0          183785.0      SEL + GS-0976       N       N        N      N      N   \n",
       "1          183972.0      SEL + GS-0976       N       N        N    NaN      N   \n",
       "2          184344.0      SEL + GS-0976       Y       Y        N      N      Y   \n",
       "3          184015.0  GS-0976 + GS-9674       N       N        N      N      N   \n",
       "4          184195.0  GS-0976 + GS-9674       N       N        N      N      N   \n",
       "\n",
       "  HB48OC  DIABN NR48NRI  CIRRCATN  \n",
       "0      N      1       N       1.0  \n",
       "1      N      1       N       1.0  \n",
       "2      N      0       N       1.0  \n",
       "3      N      1       N       1.0  \n",
       "4      Y      1       N       2.0  "
      ]
     },
     "execution_count": 134,
     "metadata": {},
     "output_type": "execute_result"
    }
   ],
   "source": [
    "per_subject_df.head(5)"
   ]
  },
  {
   "cell_type": "code",
   "execution_count": 135,
   "id": "3bad5a39-cb41-4d61-9834-0a26f6dd1088",
   "metadata": {},
   "outputs": [],
   "source": [
    "he_cols = ['GNN BALLOONING_CONTINUOUS_SCORE_HE','GNN BALLOONING_SCORE_HE','GNN LOBULAR_CONTINUOUS_SCORE_HE','GNN LOBULAR_SCORE_HE','GNN STEATOSIS_CONTINUOUS_SCORE_HE','GNN STEATOSIS_SCORE_HE',\"AREA PROP [[PORTAL INFLAMMATION] OVER [TISSUE]] IN [TISSUE]_HE\"]\n",
    "tc_cols = ['GNN CRN_CONTINUOUS_SCORE_TRICHROME','GNN CRN_SCORE_TRICHROME','AREA PROP [[FIBROSIS] OVER [TISSUE]] IN [TISSUE]_TRICHROME']\n",
    "\n",
    "tc_bl = pd.concat([tc_atlas[tc_cols].copy().add_suffix('_BL'),\n",
    "                   tc_st3[tc_cols].copy().add_suffix('_BL'),\n",
    "                   tc_st4[tc_cols].copy().add_suffix('_BL')]) \n",
    "tc_w48 = pd.concat([tc_atlas[tc_cols].copy().add_suffix('_W48'),\n",
    "                   tc_st3[tc_cols].copy().add_suffix('_W48'),\n",
    "                   tc_st4[tc_cols].copy().add_suffix('_W48')]) \n",
    "he_bl = pd.concat([he_atlas[he_cols].copy().add_suffix('_BL'),\n",
    "                   he_st3[he_cols].copy().add_suffix('_BL'),\n",
    "                   he_st4[he_cols].copy().add_suffix('_BL')]) \n",
    "he_w48 = pd.concat([he_atlas[he_cols].copy().add_suffix('_W48'),\n",
    "                   he_st3[he_cols].copy().add_suffix('_W48'),\n",
    "                   he_st4[he_cols].copy().add_suffix('_W48')]) "
   ]
  },
  {
   "cell_type": "code",
   "execution_count": 136,
   "id": "22e2c095-a29d-4ef5-9293-5ad814d013fe",
   "metadata": {},
   "outputs": [],
   "source": [
    "assert ~any(tc_bl.index.duplicated())\n",
    "assert ~any(tc_w48.index.duplicated())\n",
    "assert ~any(he_bl.index.duplicated())\n",
    "assert ~any(he_w48.index.duplicated())"
   ]
  },
  {
   "cell_type": "code",
   "execution_count": 137,
   "id": "5d7d6ac6-d9e2-4edc-8b7e-9938aa33948f",
   "metadata": {},
   "outputs": [],
   "source": [
    "working_per_subject_df = per_subject_df.copy()\n",
    "working_per_subject_df = working_per_subject_df.merge(he_bl,how='left',left_on ='HE_ID_BL', right_index=True).drop_duplicates()\n",
    "working_per_subject_df = working_per_subject_df.merge(he_w48,how='left',left_on ='HE_ID_W48', right_index=True).drop_duplicates()\n",
    "working_per_subject_df = working_per_subject_df.merge(tc_bl,how='left',left_on ='TRICHROME_ID_BL', right_index=True).drop_duplicates()\n",
    "working_per_subject_df = working_per_subject_df.merge(tc_w48,how='left',left_on ='TRICHROME_ID_W48', right_index=True).drop_duplicates()"
   ]
  },
  {
   "cell_type": "code",
   "execution_count": 138,
   "id": "2586c078-97b6-432b-aded-ad3013327a70",
   "metadata": {},
   "outputs": [],
   "source": [
    "working_per_subject_df.to_csv('REFDATA/WORKINGDATA/ATLAS_PER_SUBJECT_V3.csv',index=None)"
   ]
  },
  {
   "cell_type": "code",
   "execution_count": 110,
   "id": "444c7a07-ff58-4940-823a-e0316fa992dc",
   "metadata": {},
   "outputs": [],
   "source": [
    "psdf = working_per_subject_df.copy()"
   ]
  },
  {
   "cell_type": "code",
   "execution_count": 121,
   "id": "5505f447-174b-414a-89f9-71bb5300a10e",
   "metadata": {},
   "outputs": [
    {
     "data": {
      "text/plain": [
       "Index(['USUBJID', 'HE_ID_BL', 'TRICHROME_ID_BL', 'HE_ID_W48',\n",
       "       'TRICHROME_ID_W48', 'TRT01A', 'PE48NRI', 'FI48NRI', 'NAS48NRI',\n",
       "       'HS48OC', 'LI48OC', 'HB48OC', 'DIABN', 'NR48NRI', 'CIRRCATN',\n",
       "       'GNN BALLOONING_CONTINUOUS_SCORE_HE_BL', 'GNN BALLOONING_SCORE_HE_BL',\n",
       "       'GNN LOBULAR_CONTINUOUS_SCORE_HE_BL', 'GNN LOBULAR_SCORE_HE_BL',\n",
       "       'GNN STEATOSIS_CONTINUOUS_SCORE_HE_BL', 'GNN STEATOSIS_SCORE_HE_BL',\n",
       "       'AREA PROP [[PORTAL INFLAMMATION] OVER [TISSUE]] IN [TISSUE]_HE_BL',\n",
       "       'GNN BALLOONING_CONTINUOUS_SCORE_HE_W48', 'GNN BALLOONING_SCORE_HE_W48',\n",
       "       'GNN LOBULAR_CONTINUOUS_SCORE_HE_W48', 'GNN LOBULAR_SCORE_HE_W48',\n",
       "       'GNN STEATOSIS_CONTINUOUS_SCORE_HE_W48', 'GNN STEATOSIS_SCORE_HE_W48',\n",
       "       'AREA PROP [[PORTAL INFLAMMATION] OVER [TISSUE]] IN [TISSUE]_HE_W48',\n",
       "       'GNN CRN_CONTINUOUS_SCORE_TRICHROME_BL', 'GNN CRN_SCORE_TRICHROME_BL',\n",
       "       'GNN CRN_CONTINUOUS_SCORE_TRICHROME_W48',\n",
       "       'GNN CRN_SCORE_TRICHROME_W48'],\n",
       "      dtype='object')"
      ]
     },
     "execution_count": 121,
     "metadata": {},
     "output_type": "execute_result"
    }
   ],
   "source": [
    "psdf.columns"
   ]
  },
  {
   "cell_type": "code",
   "execution_count": 111,
   "id": "3c72f12a-f3fb-499d-990d-23994785451a",
   "metadata": {},
   "outputs": [
    {
     "data": {
      "text/plain": [
       "SEL + GS-0976        77\n",
       "SEL + GS-9674        76\n",
       "GS-0976 + GS-9674    74\n",
       "GS-0976              39\n",
       "GS-9674              39\n",
       "Placebo              39\n",
       "SEL                  38\n",
       "Name: TRT01A, dtype: int64"
      ]
     },
     "execution_count": 111,
     "metadata": {},
     "output_type": "execute_result"
    }
   ],
   "source": [
    "psdf['TRT01A'].value_counts()"
   ]
  },
  {
   "cell_type": "raw",
   "id": "5264aae8-cd1a-4583-a9b3-dcbc846698f3",
   "metadata": {},
   "source": [
    "SEL + GS-0976        77\n",
    "SEL + GS-9674        76\n",
    "GS-0976 + GS-9674    74\n",
    "Placebo              39\n",
    "GS-0976              39\n",
    "GS-9674              39\n",
    "SEL                  38\n",
    "Name: TRT01A, dtype: int64"
   ]
  },
  {
   "cell_type": "code",
   "execution_count": 112,
   "id": "23366512-0424-45bf-b873-08350fc90b74",
   "metadata": {},
   "outputs": [
    {
     "data": {
      "text/plain": [
       "GS-0976 + GS-9674    63\n",
       "Placebo              37\n",
       "Name: TRT01A, dtype: int64"
      ]
     },
     "execution_count": 112,
     "metadata": {},
     "output_type": "execute_result"
    }
   ],
   "source": [
    "psdf[psdf['TRT01A'].isin(['GS-0976 + GS-9674','Placebo'])][['USUBJID','TRT01A','HE_ID_BL','TRICHROME_ID_BL','HE_ID_W48','TRICHROME_ID_W48']].dropna()['TRT01A'].value_counts()"
   ]
  },
  {
   "cell_type": "code",
   "execution_count": 113,
   "id": "8b573c02-d7e5-4dfc-ac57-10b2d413eb3a",
   "metadata": {},
   "outputs": [],
   "source": [
    "tc_cols = ['GNN CRN_SCORE_TRICHROME_BL','GNN CRN_SCORE_TRICHROME_W48','GNN CRN_CONTINUOUS_SCORE_TRICHROME_BL','GNN CRN_CONTINUOUS_SCORE_TRICHROME_W48']\n",
    "he_cols = ['GNN BALLOONING_SCORE_HE_BL','GNN LOBULAR_SCORE_HE_BL','GNN STEATOSIS_SCORE_HE_BL','GNN BALLOONING_SCORE_HE_W48','GNN LOBULAR_SCORE_HE_W48','GNN STEATOSIS_SCORE_HE_W48',\n",
    "          'GNN BALLOONING_CONTINUOUS_SCORE_HE_BL','GNN LOBULAR_CONTINUOUS_SCORE_HE_BL','GNN STEATOSIS_CONTINUOUS_SCORE_HE_BL','GNN BALLOONING_CONTINUOUS_SCORE_HE_W48','GNN LOBULAR_CONTINUOUS_SCORE_HE_W48','GNN STEATOSIS_CONTINUOUS_SCORE_HE_W48']"
   ]
  },
  {
   "cell_type": "code",
   "execution_count": 114,
   "id": "76a76234-24e9-461e-8f75-16f8fdb50faa",
   "metadata": {},
   "outputs": [
    {
     "data": {
      "text/plain": [
       "GS-0976 + GS-9674    62\n",
       "Placebo              37\n",
       "Name: TRT01A, dtype: int64"
      ]
     },
     "execution_count": 114,
     "metadata": {},
     "output_type": "execute_result"
    }
   ],
   "source": [
    "psdf[psdf['TRT01A'].isin(['GS-0976 + GS-9674','Placebo'])][['USUBJID','TRT01A','HE_ID_BL','TRICHROME_ID_BL','HE_ID_W48','TRICHROME_ID_W48']+tc_cols+he_cols].dropna()['TRT01A'].value_counts()"
   ]
  },
  {
   "cell_type": "code",
   "execution_count": 115,
   "id": "8dd9af1b-974c-4047-baab-eaa054d97916",
   "metadata": {},
   "outputs": [],
   "source": [
    "df = psdf[psdf['TRT01A'].isin(['GS-0976 + GS-9674','Placebo'])][['USUBJID','TRT01A','HE_ID_BL','TRICHROME_ID_BL','HE_ID_W48','TRICHROME_ID_W48']+tc_cols+he_cols].copy()"
   ]
  },
  {
   "cell_type": "code",
   "execution_count": 116,
   "id": "2c2568ac-f013-4cc3-a7e5-30615a3f54d2",
   "metadata": {},
   "outputs": [],
   "source": [
    "df = df[~df[['HE_ID_BL','TRICHROME_ID_BL','HE_ID_W48','TRICHROME_ID_W48']].isnull().any(axis=1)]"
   ]
  },
  {
   "cell_type": "code",
   "execution_count": 117,
   "id": "7b7e3af9-157c-4505-9f66-c255148bce07",
   "metadata": {},
   "outputs": [
    {
     "data": {
      "text/html": [
       "<div>\n",
       "<style scoped>\n",
       "    .dataframe tbody tr th:only-of-type {\n",
       "        vertical-align: middle;\n",
       "    }\n",
       "\n",
       "    .dataframe tbody tr th {\n",
       "        vertical-align: top;\n",
       "    }\n",
       "\n",
       "    .dataframe thead th {\n",
       "        text-align: right;\n",
       "    }\n",
       "</style>\n",
       "<table border=\"1\" class=\"dataframe\">\n",
       "  <thead>\n",
       "    <tr style=\"text-align: right;\">\n",
       "      <th></th>\n",
       "      <th>USUBJID</th>\n",
       "      <th>HE_ID_BL</th>\n",
       "      <th>TRICHROME_ID_BL</th>\n",
       "      <th>HE_ID_W48</th>\n",
       "      <th>TRICHROME_ID_W48</th>\n",
       "    </tr>\n",
       "  </thead>\n",
       "  <tbody>\n",
       "    <tr>\n",
       "      <th>508</th>\n",
       "      <td>GS-US-454-4378-13961-91002</td>\n",
       "      <td>152992.0</td>\n",
       "      <td>152998.0</td>\n",
       "      <td>183692.0</td>\n",
       "      <td>183693.0</td>\n",
       "    </tr>\n",
       "  </tbody>\n",
       "</table>\n",
       "</div>"
      ],
      "text/plain": [
       "                        USUBJID  HE_ID_BL  TRICHROME_ID_BL  HE_ID_W48  \\\n",
       "508  GS-US-454-4378-13961-91002  152992.0         152998.0   183692.0   \n",
       "\n",
       "     TRICHROME_ID_W48  \n",
       "508          183693.0  "
      ]
     },
     "execution_count": 117,
     "metadata": {},
     "output_type": "execute_result"
    }
   ],
   "source": [
    "df[df.isnull().any(axis=1)][['USUBJID','HE_ID_BL','TRICHROME_ID_BL','HE_ID_W48','TRICHROME_ID_W48']]"
   ]
  },
  {
   "cell_type": "code",
   "execution_count": 118,
   "id": "afc54693-dcc4-4ad0-8707-1bbff8f512aa",
   "metadata": {},
   "outputs": [
    {
     "data": {
      "text/html": [
       "<div>\n",
       "<style scoped>\n",
       "    .dataframe tbody tr th:only-of-type {\n",
       "        vertical-align: middle;\n",
       "    }\n",
       "\n",
       "    .dataframe tbody tr th {\n",
       "        vertical-align: top;\n",
       "    }\n",
       "\n",
       "    .dataframe thead th {\n",
       "        text-align: right;\n",
       "    }\n",
       "</style>\n",
       "<table border=\"1\" class=\"dataframe\">\n",
       "  <thead>\n",
       "    <tr style=\"text-align: right;\">\n",
       "      <th></th>\n",
       "      <th>508</th>\n",
       "    </tr>\n",
       "  </thead>\n",
       "  <tbody>\n",
       "    <tr>\n",
       "      <th>USUBJID</th>\n",
       "      <td>GS-US-454-4378-13961-91002</td>\n",
       "    </tr>\n",
       "    <tr>\n",
       "      <th>TRT01A</th>\n",
       "      <td>GS-0976 + GS-9674</td>\n",
       "    </tr>\n",
       "    <tr>\n",
       "      <th>HE_ID_BL</th>\n",
       "      <td>152992</td>\n",
       "    </tr>\n",
       "    <tr>\n",
       "      <th>TRICHROME_ID_BL</th>\n",
       "      <td>152998</td>\n",
       "    </tr>\n",
       "    <tr>\n",
       "      <th>HE_ID_W48</th>\n",
       "      <td>183692</td>\n",
       "    </tr>\n",
       "    <tr>\n",
       "      <th>TRICHROME_ID_W48</th>\n",
       "      <td>183693</td>\n",
       "    </tr>\n",
       "    <tr>\n",
       "      <th>GNN CRN_SCORE_TRICHROME_BL</th>\n",
       "      <td>NaN</td>\n",
       "    </tr>\n",
       "    <tr>\n",
       "      <th>GNN CRN_SCORE_TRICHROME_W48</th>\n",
       "      <td>0</td>\n",
       "    </tr>\n",
       "    <tr>\n",
       "      <th>GNN CRN_CONTINUOUS_SCORE_TRICHROME_BL</th>\n",
       "      <td>NaN</td>\n",
       "    </tr>\n",
       "    <tr>\n",
       "      <th>GNN CRN_CONTINUOUS_SCORE_TRICHROME_W48</th>\n",
       "      <td>0.753419</td>\n",
       "    </tr>\n",
       "    <tr>\n",
       "      <th>GNN BALLOONING_SCORE_HE_BL</th>\n",
       "      <td>1</td>\n",
       "    </tr>\n",
       "    <tr>\n",
       "      <th>GNN LOBULAR_SCORE_HE_BL</th>\n",
       "      <td>1</td>\n",
       "    </tr>\n",
       "    <tr>\n",
       "      <th>GNN STEATOSIS_SCORE_HE_BL</th>\n",
       "      <td>0</td>\n",
       "    </tr>\n",
       "    <tr>\n",
       "      <th>GNN BALLOONING_SCORE_HE_W48</th>\n",
       "      <td>0</td>\n",
       "    </tr>\n",
       "    <tr>\n",
       "      <th>GNN LOBULAR_SCORE_HE_W48</th>\n",
       "      <td>0</td>\n",
       "    </tr>\n",
       "    <tr>\n",
       "      <th>GNN STEATOSIS_SCORE_HE_W48</th>\n",
       "      <td>0</td>\n",
       "    </tr>\n",
       "    <tr>\n",
       "      <th>GNN BALLOONING_CONTINUOUS_SCORE_HE_BL</th>\n",
       "      <td>1.96251</td>\n",
       "    </tr>\n",
       "    <tr>\n",
       "      <th>GNN LOBULAR_CONTINUOUS_SCORE_HE_BL</th>\n",
       "      <td>1.4794</td>\n",
       "    </tr>\n",
       "    <tr>\n",
       "      <th>GNN STEATOSIS_CONTINUOUS_SCORE_HE_BL</th>\n",
       "      <td>0</td>\n",
       "    </tr>\n",
       "    <tr>\n",
       "      <th>GNN BALLOONING_CONTINUOUS_SCORE_HE_W48</th>\n",
       "      <td>0.812944</td>\n",
       "    </tr>\n",
       "    <tr>\n",
       "      <th>GNN LOBULAR_CONTINUOUS_SCORE_HE_W48</th>\n",
       "      <td>0</td>\n",
       "    </tr>\n",
       "    <tr>\n",
       "      <th>GNN STEATOSIS_CONTINUOUS_SCORE_HE_W48</th>\n",
       "      <td>0</td>\n",
       "    </tr>\n",
       "  </tbody>\n",
       "</table>\n",
       "</div>"
      ],
      "text/plain": [
       "                                                               508\n",
       "USUBJID                                 GS-US-454-4378-13961-91002\n",
       "TRT01A                                           GS-0976 + GS-9674\n",
       "HE_ID_BL                                                    152992\n",
       "TRICHROME_ID_BL                                             152998\n",
       "HE_ID_W48                                                   183692\n",
       "TRICHROME_ID_W48                                            183693\n",
       "GNN CRN_SCORE_TRICHROME_BL                                     NaN\n",
       "GNN CRN_SCORE_TRICHROME_W48                                      0\n",
       "GNN CRN_CONTINUOUS_SCORE_TRICHROME_BL                          NaN\n",
       "GNN CRN_CONTINUOUS_SCORE_TRICHROME_W48                    0.753419\n",
       "GNN BALLOONING_SCORE_HE_BL                                       1\n",
       "GNN LOBULAR_SCORE_HE_BL                                          1\n",
       "GNN STEATOSIS_SCORE_HE_BL                                        0\n",
       "GNN BALLOONING_SCORE_HE_W48                                      0\n",
       "GNN LOBULAR_SCORE_HE_W48                                         0\n",
       "GNN STEATOSIS_SCORE_HE_W48                                       0\n",
       "GNN BALLOONING_CONTINUOUS_SCORE_HE_BL                      1.96251\n",
       "GNN LOBULAR_CONTINUOUS_SCORE_HE_BL                          1.4794\n",
       "GNN STEATOSIS_CONTINUOUS_SCORE_HE_BL                             0\n",
       "GNN BALLOONING_CONTINUOUS_SCORE_HE_W48                    0.812944\n",
       "GNN LOBULAR_CONTINUOUS_SCORE_HE_W48                              0\n",
       "GNN STEATOSIS_CONTINUOUS_SCORE_HE_W48                            0"
      ]
     },
     "execution_count": 118,
     "metadata": {},
     "output_type": "execute_result"
    }
   ],
   "source": [
    "df[df.isnull().any(axis=1)].T"
   ]
  },
  {
   "cell_type": "code",
   "execution_count": null,
   "id": "c41476a0-9b33-4c32-a85d-f8dceca644da",
   "metadata": {},
   "outputs": [],
   "source": []
  }
 ],
 "metadata": {
  "kernelspec": {
   "display_name": "sp",
   "language": "python",
   "name": "sp"
  },
  "language_info": {
   "codemirror_mode": {
    "name": "ipython",
    "version": 3
   },
   "file_extension": ".py",
   "mimetype": "text/x-python",
   "name": "python",
   "nbconvert_exporter": "python",
   "pygments_lexer": "ipython3",
   "version": "3.6.13"
  }
 },
 "nbformat": 4,
 "nbformat_minor": 5
}
