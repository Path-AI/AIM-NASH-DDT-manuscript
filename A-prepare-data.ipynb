{
 "cells": [
  {
   "cell_type": "code",
   "execution_count": 1,
   "metadata": {},
   "outputs": [],
   "source": [
    "import pandas as pd\n",
    "import numpy as np"
   ]
  },
  {
   "cell_type": "markdown",
   "metadata": {},
   "source": [
    "## Cirius Data (multi-seed)\n",
    "- [x] load data from stain tables into excel with one sheet per-component"
   ]
  },
  {
   "cell_type": "code",
   "execution_count": 5,
   "metadata": {},
   "outputs": [],
   "source": [
    "cirius_he = pd.read_excel('REFDATA/Copy of Cirius_NASH_Pilot_0_HE_Features_10805ee5-7f04-4c75-a692-d33cb0fbdc22.xlsx')\n",
    "cirius_tc = pd.read_excel('REFDATA/Copy of Cirius_NASH_Pilot_0_Trichrome_Features_7420341c-91f0-46a7-a401-a493f7852c15.xlsx')\n",
    "\n",
    "cirius_he_all = pd.read_excel('REFDATA/Cirius_NASH_Pilot_HE_Features_2020-04-22-v3_MRI.xlsx')\n",
    "cirius_tc_all = pd.read_excel('REFDATA/Cirius_NASH_Pilot_Trichrome_Features_2020-04-22-v3_MRI.xlsx')\n"
   ]
  },
  {
   "cell_type": "code",
   "execution_count": 10,
   "metadata": {},
   "outputs": [],
   "source": [
    "cirius_he_all = cirius_he_all[cirius_he_all['Not used for Analysis\\n(Flag)']!='Y']\n",
    "cirius_tc_all = cirius_tc_all[cirius_tc_all['Not used for Analysis\\n(Flag)']!='Y']"
   ]
  },
  {
   "cell_type": "code",
   "execution_count": 11,
   "metadata": {},
   "outputs": [],
   "source": [
    "cirius_he = cirius_he.merge(cirius_he_all[['SUBJID','TRT01P','Visit','H & E_ID']], \n",
    "                left_on=['PATHAI_ID'],right_on=['H & E_ID'],how='left').drop_duplicates()\n",
    "cirius_tc = cirius_tc.merge(cirius_tc_all[['SUBJID','TRT01P','Visit','Trichrome_ID']],\n",
    "                left_on=['PATHAI_ID'],right_on=['Trichrome_ID'],how='left').drop_duplicates()\n"
   ]
  },
  {
   "cell_type": "code",
   "execution_count": 12,
   "metadata": {},
   "outputs": [
    {
     "data": {
      "text/plain": [
       "Index(['PATHAI_ID', 'CASE_NAME', 'STAIN_NAME', 'ORIGINAL_NAME',\n",
       "       'AREA (MM2) OF [ARTIFACT] IN [TISSUE]_Trichrome',\n",
       "       'AREA (MM2) OF [BACKGROUND] IN [TISSUE]_Trichrome',\n",
       "       'AREA (MM2) OF [USABLE TISSUE] IN [TISSUE]_Trichrome',\n",
       "       'AREA (MM2) OF [FOREGROUND] IN [TISSUE]_Trichrome',\n",
       "       'AREA (MM2) OF [TOTAL AREA] IN [TISSUE]_Trichrome',\n",
       "       'AREA PROP [[ARTIFACT] OVER [FOREGROUND]] IN [TISSUE]_Trichrome',\n",
       "       'AREA PROP [[ARTIFACT] OVER [TOTAL AREA]] IN [TISSUE]_Trichrome',\n",
       "       'AREA PROP [[BACKGROUND] OVER [TOTAL AREA]] IN [TISSUE]_Trichrome',\n",
       "       'AREA PROP [[USABLE TISSUE] OVER [TOTAL AREA]] IN [TISSUE]_Trichrome',\n",
       "       'AREA (MM2) OF [BILE DUCT] IN [TISSUE]_TRICHROME',\n",
       "       'AREA (MM2) OF [FIBROSIS] IN [TISSUE]_TRICHROME',\n",
       "       'AREA (MM2) OF [TISSUE] IN [TISSUE]_TRICHROME',\n",
       "       'AREA PROP [[BILE DUCT] OVER [TISSUE]] IN [TISSUE]_TRICHROME',\n",
       "       'AREA PROP [[FIBROSIS] OVER [TISSUE]] IN [TISSUE]_TRICHROME',\n",
       "       'AREA (MM2) OF [NORMAL FIBROSIS] IN [TISSUE]_TRICHROME',\n",
       "       'AREA (MM2) OF [PATHOLOGICAL FIBROSIS] IN [TISSUE]_TRICHROME',\n",
       "       'AREA PROP [[NORMAL FIBROSIS] OVER [TISSUE]] IN [TISSUE]_TRICHROME',\n",
       "       'AREA PROP [[PATHOLOGICAL FIBROSIS] OVER [TISSUE]] IN [TISSUE]_TRICHROME',\n",
       "       'AREA (MM2) OF [CRN_FOUR] IN [TISSUE]_TRICHROME',\n",
       "       'AREA (MM2) OF [CRN_ONE] IN [TISSUE]_TRICHROME',\n",
       "       'AREA (MM2) OF [CRN_THREE] IN [TISSUE]_TRICHROME',\n",
       "       'AREA (MM2) OF [CRN_TWO] IN [TISSUE]_TRICHROME',\n",
       "       'AREA (MM2) OF [CRN_ZERO] IN [TISSUE]_TRICHROME',\n",
       "       'AREA (MM2) OF [CRN_ALL_SCORED] IN [TISSUE]_TRICHROME',\n",
       "       'AREA PROP [[CRN_FOUR] OVER [CRN_ALL_SCORED]] IN [TISSUE]_TRICHROME',\n",
       "       'AREA PROP [[CRN_FOUR] OVER [TISSUE]] IN [TISSUE]_TRICHROME',\n",
       "       'AREA PROP [[CRN_ONE] OVER [CRN_ALL_SCORED]] IN [TISSUE]_TRICHROME',\n",
       "       'AREA PROP [[CRN_ONE] OVER [TISSUE]] IN [TISSUE]_TRICHROME',\n",
       "       'AREA PROP [[CRN_THREE] OVER [CRN_ALL_SCORED]] IN [TISSUE]_TRICHROME',\n",
       "       'AREA PROP [[CRN_THREE] OVER [TISSUE]] IN [TISSUE]_TRICHROME',\n",
       "       'AREA PROP [[CRN_TWO] OVER [CRN_ALL_SCORED]] IN [TISSUE]_TRICHROME',\n",
       "       'AREA PROP [[CRN_TWO] OVER [TISSUE]] IN [TISSUE]_TRICHROME',\n",
       "       'AREA PROP [[CRN_ZERO] OVER [CRN_ALL_SCORED]] IN [TISSUE]_TRICHROME',\n",
       "       'AREA PROP [[CRN_ZERO] OVER [TISSUE]] IN [TISSUE]_TRICHROME',\n",
       "       'ML ORDINAL AVG [CRN_ALL_SCORED] IN [TISSUE]_TRICHROME',\n",
       "       'GNN CRN_SCORE_TRICHROME', 'crn_score_nashddt/partner/central/cirius',\n",
       "       'crn_score_nashddt/partner/index/1',\n",
       "       'crn_score_nashddt/partner/index/2', 'SUBJID', 'TRT01P', 'Visit',\n",
       "       'Trichrome_ID'],\n",
       "      dtype='object')"
      ]
     },
     "execution_count": 12,
     "metadata": {},
     "output_type": "execute_result"
    }
   ],
   "source": [
    "cirius_tc.columns"
   ]
  },
  {
   "cell_type": "code",
   "execution_count": 13,
   "metadata": {},
   "outputs": [],
   "source": [
    "cirius_aim_cols = {\n",
    "    'Fibrosis':'GNN CRN_SCORE_TRICHROME',\n",
    "    'Inflammation':'GNN LOBULAR_SCORE_HE',\n",
    "    'Ballooning':'GNN BALLOONING_SCORE_HE',\n",
    "    'Steatosis':'GNN STEATOSIS_SCORE_HE'\n",
    "}\n",
    "cirius_net_path_nash_pre = {\n",
    "    'Ballooning':'ballooning_score_',\n",
    "    'Steatosis':'steatosis_score_',\n",
    "    'Inflammation':'lobular_score_',\n",
    "    'Fibrosis':'crn_score_'\n",
    "}\n",
    "cirius_net_paths = [\n",
    "    'nashddt/partner/central/cirius',\n",
    "    'nashddt/partner/index/1',\n",
    "    'nashddt/partner/index/2'\n",
    "]\n",
    "\n",
    "dfs = {}\n",
    "for k, aim_col in cirius_aim_cols.items():\n",
    "    nps = [ cirius_net_path_nash_pre[k]+n for n in cirius_net_paths ]\n",
    "    nps_rn = {n:f'NP{i}' for i, n in enumerate(nps)}\n",
    "    if k == 'Fibrosis':\n",
    "        dfs[k] = cirius_tc[['PATHAI_ID','CASE_NAME','SUBJID','TRT01P','Visit',cirius_aim_cols[k]]+nps].copy()\n",
    "    else:\n",
    "        dfs[k] = cirius_he[['PATHAI_ID','CASE_NAME','SUBJID','TRT01P','Visit',cirius_aim_cols[k]]+nps].copy()\n",
    "    dfs[k].rename(columns={cirius_aim_cols[k]:'AIM'}, inplace=True)\n",
    "    dfs[k].rename(columns=nps_rn, inplace = True)    "
   ]
  },
  {
   "cell_type": "code",
   "execution_count": 14,
   "metadata": {},
   "outputs": [],
   "source": [
    "with pd.ExcelWriter('REFDATA/COUGAR_NP_V03.xlsx') as w:\n",
    "    for k, dfc in dfs.items():\n",
    "        dfc.to_excel(w, sheet_name=k, index=None)\n",
    "    w.save()"
   ]
  },
  {
   "cell_type": "markdown",
   "metadata": {},
   "source": [
    "# Iguana Data - single seed\n",
    "- [ ] pull data from delivery table (with AIM scores)\n",
    "- [ ] split into three parts: ALL, PANEL A and PANEL B"
   ]
  },
  {
   "cell_type": "code",
   "execution_count": 9,
   "metadata": {},
   "outputs": [],
   "source": [
    "file = 'REFDATA/IGUANA_NP_INT200_V01.xlsx'\n",
    "# core_cols = ['Subject ID','Visit','CP','PathAI slide ID','PathAI stain label']\n",
    "# aim_cols = ['GNN BALLOONING_SCORE_HE','GNN LOBULAR_SCORE_HE','GNN STEATOSIS_SCORE_HE','GNN CRN_SCORE_TRICHROME']\n",
    "# cp_cols = ['NASHCRN AVAL','STEATOS AVAL','NLOBI AVAL','NASHHBLN AVAL']\n",
    "\n",
    "panel_a = ['Sanjay Kakar','Li Juan Wang','Sandy  Liu']\n",
    "panel_b = ['Dhanpat Jain','Robert Najarian','Evgeny Yakirevich']\n",
    "\n",
    "i_dfs = {}\n",
    "i_dfs['Fibrosis'] = pd.read_excel(file, sheet_name='Fibrosis')\n",
    "i_dfs['Inflammation'] = pd.read_excel(file, sheet_name='Inflammation')\n",
    "i_dfs['Ballooning'] = pd.read_excel(file, sheet_name='Ballooning')\n",
    "i_dfs['Steatosis'] = pd.read_excel(file, sheet_name='Steatosis')\n",
    "\n",
    "for k in i_dfs.keys():\n",
    "    npsa_rn = {n:f'NP_A{i}' for i, n in enumerate(panel_a)}\n",
    "    npsb_rn = {n:f'NP_B{i}' for i, n in enumerate(panel_b)}\n",
    "    nps_rn = {**npsa_rn, **npsb_rn}\n",
    "    i_dfs[k].rename(columns=nps_rn, inplace = True)\n",
    "    \n",
    "with pd.ExcelWriter('REFDATA/IGUANA_NP_V01.xlsx') as w:\n",
    "    for k, dfc in i_dfs.items():\n",
    "        dfc.to_excel(w, sheet_name=k, index=None)\n",
    "    w.save()"
   ]
  },
  {
   "cell_type": "code",
   "execution_count": null,
   "metadata": {},
   "outputs": [],
   "source": []
  }
 ],
 "metadata": {
  "kernelspec": {
   "display_name": "sp",
   "language": "python",
   "name": "sp"
  },
  "language_info": {
   "codemirror_mode": {
    "name": "ipython",
    "version": 3
   },
   "file_extension": ".py",
   "mimetype": "text/x-python",
   "name": "python",
   "nbconvert_exporter": "python",
   "pygments_lexer": "ipython3",
   "version": "3.6.12"
  }
 },
 "nbformat": 4,
 "nbformat_minor": 4
}
